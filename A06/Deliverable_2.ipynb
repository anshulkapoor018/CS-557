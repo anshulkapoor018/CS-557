{
 "cells": [
  {
   "cell_type": "markdown",
   "metadata": {},
   "source": [
    "Drugs Win Drug War\n",
    "\n",
    "Rural Nebraskan Not Sure He Could Handle Frantic Pace Of Omaha\n",
    "\n",
    "Kitten Thinks Of Nothing But Murder All Day\n",
    "\n",
    "Study Reveals: Babies Are Stupid\n",
    "\n",
    "Secondhand Smoke Linked To Secondhand Coolness\n",
    "\n",
    "Drugs/NNS Win/VBP Drug/JJ War/NN\n",
    "\n",
    "Rural/JJ Nebraskan/NNP Not/RB Sure/JJ He/PRP Could/MD Handle/VB Frantic/JJ Pace/NN Of/IN Omaha/NNP\n",
    "\n",
    "Kitten/NN Thinks/VBP Of/IN Nothing/NN But/CC Murder/NN All/DT Day/NN\n",
    "\n",
    "Study/NN Reveals/VBZ: Babies/NNS Are/VBP Stupid/JJ\n",
    "\n",
    "Secondhand/JJ Smoke/NN Linked/VBD To/TO Secondhand/JJ Coolness/JJ\n"
   ]
  },
  {
   "cell_type": "code",
   "execution_count": 4,
   "metadata": {
    "collapsed": false,
    "deletable": true,
    "editable": true
   },
   "outputs": [
    {
     "name": "stdout",
     "output_type": "stream",
     "text": [
      "[('Rural', None), ('Nebraskan', None), ('Not', 'RB'), ('Sure', 'RB'), ('He', 'PRP'), ('Could', 'MD'), ('Handle', None), ('Frantic', None), ('Pace', 'NNP'), ('Of', 'IN'), ('Omaha', None)]\n",
      "[('Kitten', None), ('Thinks', None), ('Of', 'IN'), ('Nothing', None), ('But', 'CC'), ('Murder', None), ('All', 'DT'), ('Day', 'NNP')]\n",
      "[('Study', None), ('Reveals', None), (':', ':'), ('Babies', None), ('Are', None), ('Stupid', None)]\n",
      "[('Book', 'NNP'), ('the', 'DT'), ('cooks', None), ('who', 'WP'), ('cook', None), ('the', 'DT'), ('books', 'NNS')]\n",
      "[('Secondhand', None), ('Smoke', None), ('Linked', None), ('To', 'TO'), ('Secondhand', None), ('Coolness', None)]\n"
     ]
    }
   ],
   "source": [
    "import nltk\n",
    "Hlines = [ \n",
    "             \"Rural Nebraskan Not Sure He Could Handle Frantic Pace Of Omaha\",\n",
    "             \"Kitten Thinks Of Nothing But Murder All Day\",\n",
    "             \"Study Reveals: Babies Are Stupid\",\n",
    "             \"Book the cooks who cook the books\",\n",
    "             \"Secondhand Smoke Linked To Secondhand Coolness\"\n",
    "            ]\n",
    "\n",
    "wsj = nltk.corpus.treebank.tagged_words()\n",
    "cfd1 = nltk.ConditionalFreqDist(wsj)\n",
    "cfd2 = nltk.ConditionalFreqDist((tag, word) for (word, tag) in wsj)\n",
    "wsj = dict((word, tag) for (word, tag) in wsj)\n",
    "baseline_tagger=nltk.UnigramTagger(model=wsj)\n",
    "\n",
    "for line in Hlines:\n",
    "    sentence = nltk.word_tokenize(line)\n",
    "    print(baseline_tagger.tag(sentence))"
   ]
  },
  {
   "cell_type": "code",
   "execution_count": null,
   "metadata": {
    "collapsed": true,
    "deletable": true,
    "editable": true
   },
   "outputs": [],
   "source": []
  }
 ],
 "metadata": {
  "kernelspec": {
   "display_name": "Python 3",
   "language": "python",
   "name": "python3"
  },
  "language_info": {
   "codemirror_mode": {
    "name": "ipython",
    "version": 3
   },
   "file_extension": ".py",
   "mimetype": "text/x-python",
   "name": "python",
   "nbconvert_exporter": "python",
   "pygments_lexer": "ipython3",
   "version": "3.5.2"
  }
 },
 "nbformat": 4,
 "nbformat_minor": 2
}
